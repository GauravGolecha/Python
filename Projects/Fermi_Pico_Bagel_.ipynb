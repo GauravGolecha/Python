{
 "cells": [
  {
   "cell_type": "markdown",
   "metadata": {},
   "source": [
    "## Fermi Pico Bagel\n",
    "Try playing game and understand the rules : https://communicrossings.com/html/js/pfb.htm\n",
    "\n",
    "## Step 1\n",
    "Store any number(number to be guessed by player) in a variable `original_number`.\n"
   ]
  },
  {
   "cell_type": "code",
   "execution_count": 37,
   "metadata": {},
   "outputs": [],
   "source": [
    "## Your code goes here \n",
    "original_number=324\n"
   ]
  },
  {
   "cell_type": "markdown",
   "metadata": {},
   "source": [
    "## Step 2\n",
    "Take a number as user input and save it in a variable `guess_number`.(Remember that datatype of input will be string so convert it into integer.)"
   ]
  },
  {
   "cell_type": "code",
   "execution_count": 39,
   "metadata": {},
   "outputs": [
    {
     "name": "stdout",
     "output_type": "stream",
     "text": [
      "236\n"
     ]
    }
   ],
   "source": [
    "## Your code goes here \n",
    "guess_number=int(input())\n"
   ]
  },
  {
   "cell_type": "markdown",
   "metadata": {},
   "source": [
    "## Step 3\n",
    "Check if total number of digits in `original_number` and `guess_number` is not same(Use `len()` function) then ask user for valid input.(First convert number into string then use `len()` to get total digits in `original_number` and `guess_number`. )"
   ]
  },
  {
   "cell_type": "code",
   "execution_count": 40,
   "metadata": {},
   "outputs": [
    {
     "name": "stdout",
     "output_type": "stream",
     "text": [
      "Enter valid input\n"
     ]
    }
   ],
   "source": [
    "## Your code goes here \n",
    "len(str(original_number)) != len(str(guess_number))\n",
    "print(\"Enter valid input\")"
   ]
  },
  {
   "cell_type": "markdown",
   "metadata": {},
   "source": [
    "\n",
    "## Step 4\n",
    "Using `set()`, check if the digits are repeated in a `guess_number` .\n",
    "Note that datatype `set` allows unique values only.\n",
    "\n",
    "For ex. if `user_input`is 122, then it should print the string 'Duplicate number'  as digit 2 is repeated."
   ]
  },
  {
   "cell_type": "code",
   "execution_count": 41,
   "metadata": {},
   "outputs": [
    {
     "name": "stdout",
     "output_type": "stream",
     "text": [
      "duplicate number\n"
     ]
    }
   ],
   "source": [
    "## Your code goes here \n",
    "len(set(str(guess_number))) != len(str(guess_number))\n",
    "print('Duplicate number')"
   ]
  },
  {
   "cell_type": "markdown",
   "metadata": {},
   "source": [
    "## Step 5\n",
    "Check winning condition i.e. if both `guess_number` and `original_number` are same, then print 'Fermi' as many number of times as number of digits in a number and print ' You win !! '.\n"
   ]
  },
  {
   "cell_type": "code",
   "execution_count": 16,
   "metadata": {},
   "outputs": [
    {
     "name": "stdout",
     "output_type": "stream",
     "text": [
      "Fermi Fermi Fermi \n",
      "You win\n"
     ]
    }
   ],
   "source": [
    "## Your code goes here \n",
    "guess_number==original_number\n",
    "print(\"Fermi \"*len(str(original_number)))\n",
    "print(\"You win\")"
   ]
  },
  {
   "cell_type": "markdown",
   "metadata": {},
   "source": [
    "## Step 6\n",
    "Create empty list called `output` where we will store the output in the form of list.\n",
    "\n",
    "For example: output = [ ' Fermi ', ' Pico ' ,' Pico ' ] ."
   ]
  },
  {
   "cell_type": "code",
   "execution_count": 43,
   "metadata": {},
   "outputs": [],
   "source": [
    "## Your code goes here \n",
    "output=[]"
   ]
  },
  {
   "cell_type": "markdown",
   "metadata": {},
   "source": [
    "## Step 7\n",
    "Check if any digit and it's position in both `guess_number` and `original_number` are same then append 'Fermi' to `output` list or if only digit matches and not the position then append 'Pico' to `output`.\n"
   ]
  },
  {
   "cell_type": "code",
   "execution_count": 44,
   "metadata": {},
   "outputs": [
    {
     "name": "stdout",
     "output_type": "stream",
     "text": [
      "0\n",
      "0\n",
      "0\n",
      "1\n",
      "1\n",
      "1\n"
     ]
    }
   ],
   "source": [
    "## Your code goes here \n",
    "for i in range(len(str(guess_number))):\n",
    "    print('0')\n",
    "for j in range(len(str(original_number))):\n",
    "    print('1')\n",
    "if str(guess_number)[i]==str(original_number)[j]:\n",
    "                if i==j:\n",
    "                    output.append(\"fermi\")"
   ]
  },
  {
   "cell_type": "markdown",
   "metadata": {},
   "source": [
    "## Step 8\n",
    "Define a variable called `output_string` which has all values from a list `output` with each value separated by space. (Use 'for' loop to get all the values from a list `output`.)"
   ]
  },
  {
   "cell_type": "code",
   "execution_count": 49,
   "metadata": {},
   "outputs": [],
   "source": [
    "## Your code goes here \n",
    "output_string = ''\n",
    "for i in output:\n",
    "    output_string+=i"
   ]
  },
  {
   "cell_type": "markdown",
   "metadata": {},
   "source": [
    "## Step 9\n",
    "Check if neither any digit nor any position matches i.e. if length of `output` list is zero then print `Bagel`.\n",
    "\n",
    "Otherwise print `output_string`."
   ]
  },
  {
   "cell_type": "code",
   "execution_count": null,
   "metadata": {},
   "outputs": [],
   "source": [
    "## Your code goes here \n",
    "if guess_number != original_number:\n",
    "    print('bagels')\n",
    "else:\n",
    "    print(output_string)\n"
   ]
  },
  {
   "cell_type": "markdown",
   "metadata": {},
   "source": [
    "## Step 10\n",
    "\n",
    "## Complete game\n",
    "Here use continue and break statements at appropriate places."
   ]
  },
  {
   "cell_type": "code",
   "execution_count": 3,
   "metadata": {},
   "outputs": [],
   "source": [
    "## step 1\n",
    "\n",
    "## create infinite while loop\n",
    "\n",
    "## step 2 and step 6\n",
    "\n",
    "## step 3 and step 4 (use continue statement)\n",
    "\n",
    "## step 5 (use break statement for winning condition)\n",
    "\n",
    "## step 7\n",
    "\n",
    "## step 8\n",
    "\n",
    "## step 9"
   ]
  },
  {
   "cell_type": "code",
   "execution_count": 5,
   "metadata": {},
   "outputs": [
    {
     "name": "stdout",
     "output_type": "stream",
     "text": [
      "563\n",
      "Bagel\n",
      "\n",
      "863\n",
      "Bagel\n",
      "Bagel\n",
      "\n",
      "896\n",
      "Fermi Fermi Fermi \n",
      "You win\n"
     ]
    }
   ],
   "source": [
    "original_number=896\n",
    "## create infinite while loop\n",
    "while True:\n",
    "    ## step 2 and step 6\n",
    "    guess_number=int(input())\n",
    "    output=[ ]\n",
    "    ## step 3 and step 4 (use continue statement)\n",
    "\n",
    "    if len(str(original_number))!= len(str(guess_number)):    \n",
    "        print(\"Enter valid input\")\n",
    "        continue\n",
    "    if len(set(str(guess_number))) != len(str(guess_number)):\n",
    "        print(\"Duplicate number\")\n",
    "        continue\n",
    "        ## step 5 (use break statement for winning condition)\n",
    "\n",
    "    if guess_number==original_number:                               \n",
    "        print(\"Fermi \"*len(str(original_number)))\n",
    "        print(\"You win\")\n",
    "        break\n",
    "## step 7\n",
    "    for i in range(len(str(guess_number))) :\n",
    "        for j in range(len(str(original_number))) :\n",
    "            if str(guess_number)[i]==str(original_number)[j]:\n",
    "                if i==j:\n",
    "                    output.append(\"fermi\")\n",
    "                else:\n",
    "                    output.append(\"pico\")\n",
    "## step 8\n",
    "    output_string=\"\"\n",
    "    for i in output:\n",
    " ## step 9\n",
    "        if guess_number != original_number:\n",
    "            print(\"Bagel\")\n",
    "    else:\n",
    "        print(output_string)"
   ]
  },
  {
   "cell_type": "code",
   "execution_count": null,
   "metadata": {},
   "outputs": [],
   "source": []
  }
 ],
 "metadata": {
  "kernelspec": {
   "display_name": "Python 3",
   "language": "python",
   "name": "python3"
  },
  "language_info": {
   "codemirror_mode": {
    "name": "ipython",
    "version": 3
   },
   "file_extension": ".py",
   "mimetype": "text/x-python",
   "name": "python",
   "nbconvert_exporter": "python",
   "pygments_lexer": "ipython3",
   "version": "3.7.4"
  }
 },
 "nbformat": 4,
 "nbformat_minor": 5
}
