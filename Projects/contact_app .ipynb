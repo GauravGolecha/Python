{
 "cells": [
  {
   "cell_type": "markdown",
   "metadata": {},
   "source": [
    "# Contact app\n",
    "\n",
    "You have learnt a lot of new things; data structures, string, regex & files. Lets use all our newly acquired knowledge to build a **contact app**, just like the ones in our smartphone.\n",
    "\n",
    "We will not be building a fancy UI, instead we will focus on understanding the programming logic.\n",
    "\n",
    "Lets get started!\n",
    "\n",
    "Think of all the features that your contact app has . . . !\n",
    "- It can show you all the contact names\n",
    "- You can search for contacts (using name)\n",
    "- You can see all the information associated with the contact\n",
    "- You can delete and update contacts\n",
    "\n",
    "Can you think of anything more ? Our contact app should have at least these features. \n",
    "- The app should show us all the contact names\n",
    "- It should allow us to select a contact and view all the information associated with the contact\n",
    "- It should allow us to update contact info & delete contact\n",
    "- Finally, it should show us all the contact names\n",
    "\n",
    "For every contact, we will store the `name`, `number` & `email`. "
   ]
  },
  {
   "cell_type": "markdown",
   "metadata": {},
   "source": [
    "### Data Structure\n",
    "The very first thing that we need to decide is \"What data structure to use?\"\n",
    "\n",
    "To store all the contacts, we can use a list of dictionaries; were each dictionary stores the `name`, `number` & `email`  of the contact. \n",
    "\n",
    "Create a list of dictionaries called `contacts` with 3 dummy contacts.  "
   ]
  },
  {
   "cell_type": "code",
   "execution_count": 1,
   "metadata": {},
   "outputs": [],
   "source": [
    "## your code here\n",
    "#here we have created 3 demo contacts using varibale=[list{dictonaries}]\n",
    "contacts=[{'name':'Gaav Jain', 'number':'7720002120','email':'gaurav@gmail.com'},\\\n",
    "          {'name':'saurabh Jain' ,'number':'8720002120' ,'email':'saurav@gmail.com'},\\\n",
    "          {'name':'aditya Jain' ,'number':'9720002120',' email':'aditya@gmail.com'}]"
   ]
  },
  {
   "cell_type": "code",
   "execution_count": 2,
   "metadata": {},
   "outputs": [
    {
     "data": {
      "text/plain": [
       "[{'name': 'Gaav Jain', 'number': '7720002120', 'email': 'gaurav@gmail.com'},\n",
       " {'name': 'saurabh Jain', 'number': '8720002120', 'email': 'saurav@gmail.com'},\n",
       " {'name': 'aditya Jain', 'number': '9720002120', ' email': 'aditya@gmail.com'}]"
      ]
     },
     "execution_count": 2,
     "metadata": {},
     "output_type": "execute_result"
    }
   ],
   "source": [
    "contacts"
   ]
  },
  {
   "cell_type": "markdown",
   "metadata": {},
   "source": [
    "### List all contact names\n",
    "Write `show_contacts` function that takes the `contacts` list and prints all the contact names. These names will help us to select the contact later."
   ]
  },
  {
   "cell_type": "code",
   "execution_count": 3,
   "metadata": {},
   "outputs": [],
   "source": [
    "#in these code we simply display our conatacts via only names\n",
    "def show_contacts(contacts):\n",
    "    ## your code here:\n",
    "    for i in contacts:\n",
    "        print(i['name'])"
   ]
  },
  {
   "cell_type": "code",
   "execution_count": 4,
   "metadata": {},
   "outputs": [
    {
     "name": "stdout",
     "output_type": "stream",
     "text": [
      "Gaav Jain\n",
      "saurabh Jain\n",
      "aditya Jain\n"
     ]
    }
   ],
   "source": [
    "show_contacts(contacts)"
   ]
  },
  {
   "cell_type": "markdown",
   "metadata": {},
   "source": [
    "### Add a new Contact\n",
    "\n",
    "Write `add_contact` function that takes user input and *adds new contact* dictionary to the existing list of `contacts`."
   ]
  },
  {
   "cell_type": "code",
   "execution_count": 3,
   "metadata": {},
   "outputs": [],
   "source": [
    "def add_contact(contacts):\n",
    "    ## your code here\n",
    "    name=input('Contact name:') #takes input from user for name\n",
    "    number=int(input('Contact Number:')) #takes input from user for number\n",
    "    email=input('email:')               #takes input from user for email\n",
    "    new_dict={'name':name,'number':number,'email':email} #newdictornary name = {k:v}\n",
    "    contacts.append(new_dict) # appending newdictornary to dictonary in  list\n",
    "    "
   ]
  },
  {
   "cell_type": "code",
   "execution_count": 12,
   "metadata": {},
   "outputs": [
    {
     "name": "stdout",
     "output_type": "stream",
     "text": [
      "Contact name:p\n",
      "Contact Number:5\n",
      "email:l\n"
     ]
    }
   ],
   "source": [
    "add_contact(contacts) # calling  add contact function we created"
   ]
  },
  {
   "cell_type": "code",
   "execution_count": 7,
   "metadata": {},
   "outputs": [
    {
     "name": "stdout",
     "output_type": "stream",
     "text": [
      "Gaav Jain\n",
      "saurabh Jain\n",
      "aditya Jain\n"
     ]
    }
   ],
   "source": [
    "show_contacts(contacts) # calling updated list that has dict"
   ]
  },
  {
   "cell_type": "markdown",
   "metadata": {},
   "source": [
    "### Delete Contact\n",
    "\n",
    "Write `delete_contact` function to delete an existing contact by providing `name` of the contact which we want to delete."
   ]
  },
  {
   "cell_type": "code",
   "execution_count": 8,
   "metadata": {},
   "outputs": [],
   "source": [
    "def delete_contact(contacts,name):\n",
    "    ## your code here\n",
    "    for i in contacts:\n",
    "        if i ['name'] == name:\n",
    "            contacts.remove(i)\n",
    "            print(contacts)"
   ]
  },
  {
   "cell_type": "code",
   "execution_count": 9,
   "metadata": {},
   "outputs": [
    {
     "name": "stdout",
     "output_type": "stream",
     "text": [
      "contact that u want to deleteyash love\n",
      "[{'name': 'Gaurav Jain', 'number': '7720002120', 'email': 'gaurav@gmail.com'}, {'name': 'saurabh Jain', 'number': '8720002120', 'email': 'saurav@gmail.com'}, {'name': 'aditya Jain', 'number': '9720002120', ' email': 'aditya@gmail.com'}]\n"
     ]
    }
   ],
   "source": [
    "name=input('contact that u want to delete')\n",
    "delete_contact(contacts,name)"
   ]
  },
  {
   "cell_type": "markdown",
   "metadata": {},
   "source": [
    "### Update Contact details\n",
    "\n",
    "Let's write `update_contact` function which will *update contact details* such as `name`, `email` & `number`. \n",
    "The functions should take `contacts` and `name` as arguments. It should also print the newly added contact."
   ]
  },
  {
   "cell_type": "code",
   "execution_count": 8,
   "metadata": {},
   "outputs": [],
   "source": [
    "def update_contact(contacts,name):\n",
    "    ## your code here\n",
    "    for i in contacts:\n",
    "        if i ['name']==name:\n",
    "            kaam =input('bol bhai kya karna hai update')\n",
    "            if kaam =='':\n",
    "                print('abee veelle kuch kaam hi nhi tha toh kyu call kiya')\n",
    "            elif kaam =='name':\n",
    "                new_name= input('bata be new name ')\n",
    "                i['name'] = new_name\n",
    "            elif kaam =='email':\n",
    "                new_email= input('bata be new email-ID ')\n",
    "                i['email'] = new_email\n",
    "            elif kaam =='number':\n",
    "                new_number= input('bata be new number')\n",
    "                i['number'] = new_number\n",
    "            elif kaam =='mail and number':\n",
    "                new_email= input('bata be new email-ID ')\n",
    "                i['email'] = new_email\n",
    "                new_number= input('bata be new number')\n",
    "                i['number'] = new_number\n",
    "    return (contacts)"
   ]
  },
  {
   "cell_type": "code",
   "execution_count": 9,
   "metadata": {},
   "outputs": [
    {
     "name": "stdout",
     "output_type": "stream",
     "text": [
      "bata be kya update karna hai naam bhi bata.Gaav Jain\n",
      "bol bhai kya karna hai updatename\n",
      "bata be new name jj\n"
     ]
    },
    {
     "data": {
      "text/plain": [
       "[{'name': 'jj', 'number': '7720002120', 'email': 'gaurav@gmail.com'},\n",
       " {'name': 'saurabh Jain', 'number': '8720002120', 'email': 'saurav@gmail.com'},\n",
       " {'name': 'aditya Jain', 'number': '9720002120', ' email': 'aditya@gmail.com'}]"
      ]
     },
     "execution_count": 9,
     "metadata": {},
     "output_type": "execute_result"
    }
   ],
   "source": [
    "name =input('bata be kya update karna hai naam bhi bata.')\n",
    "update_contact(contacts,name)"
   ]
  },
  {
   "cell_type": "markdown",
   "metadata": {},
   "source": [
    "### Open Contact \n",
    "`open_contact` function takes the `contacts` list and a `name` string as input. It prints the contact details if `name` matches some contact name in the `contacts` list, else prints `No match found!`.\n",
    "\n",
    "**Note:** The functions should be case insensitive. "
   ]
  },
  {
   "cell_type": "code",
   "execution_count": 3,
   "metadata": {},
   "outputs": [],
   "source": [
    "def open_contact(contacts, name):\n",
    "    ## your code here\n",
    "    for i in contacts:\n",
    "        if i['name']== name:\n",
    "            return i\n",
    "        else:\n",
    "            print('aisa koi nhi contact mai')"
   ]
  },
  {
   "cell_type": "code",
   "execution_count": 6,
   "metadata": {},
   "outputs": [
    {
     "name": "stdout",
     "output_type": "stream",
     "text": [
      "kiaka conatct chaiye bata:Gaav Jain\n"
     ]
    },
    {
     "data": {
      "text/plain": [
       "{'name': 'Gaav Jain', 'number': '7720002120', 'email': 'gaurav@gmail.com'}"
      ]
     },
     "execution_count": 6,
     "metadata": {},
     "output_type": "execute_result"
    }
   ],
   "source": [
    "name=input(\"kiaka conatct chaiye bata:\")\n",
    "\n",
    "open_contact(contacts, name)"
   ]
  },
  {
   "cell_type": "markdown",
   "metadata": {},
   "source": [
    "We often see *update* & *delete* options after we open a particular contact. It would be great if we can also implement the same. \n",
    "\n",
    "After opening the contact, the program should wait for user input. The user can press `u` to update & `d` delete contact. Any other key press should be ignored\n",
    "\n",
    "Write the updated `open_contact` function below"
   ]
  },
  {
   "cell_type": "code",
   "execution_count": 6,
   "metadata": {},
   "outputs": [],
   "source": [
    "def open_contacts(contacts):\n",
    "    ## your code here\n",
    "    kyakaru =input('bol bhai kya karu u/d u means update and d means delete')\n",
    "    if kyakaru==\"u\":\n",
    "        name =input('bata be kya update karna hai naam bhi bata.')\n",
    "        update_contact(contacts,name)\n",
    "    elif kyakaru==\"d\":\n",
    "        name=input('contact that u want to delete')\n",
    "        delete_contact(contacts,name)\n",
    "    else:\n",
    "        print(\"ignored eeeeeeuuuuuuuuuuuu\")"
   ]
  },
  {
   "cell_type": "code",
   "execution_count": 7,
   "metadata": {},
   "outputs": [
    {
     "name": "stdout",
     "output_type": "stream",
     "text": [
      "bol bhai kya karu u/d u means update and d means deleteu\n",
      "bata be kya update karna hai naam bhi bata.jj\n"
     ]
    },
    {
     "ename": "NameError",
     "evalue": "name 'update_contact' is not defined",
     "output_type": "error",
     "traceback": [
      "\u001b[1;31m---------------------------------------------------------------------------\u001b[0m",
      "\u001b[1;31mNameError\u001b[0m                                 Traceback (most recent call last)",
      "\u001b[1;32m<ipython-input-7-1300586a8f30>\u001b[0m in \u001b[0;36m<module>\u001b[1;34m\u001b[0m\n\u001b[1;32m----> 1\u001b[1;33m \u001b[0mopen_contacts\u001b[0m\u001b[1;33m(\u001b[0m\u001b[0mcontacts\u001b[0m\u001b[1;33m)\u001b[0m\u001b[1;33m\u001b[0m\u001b[1;33m\u001b[0m\u001b[0m\n\u001b[0m",
      "\u001b[1;32m<ipython-input-6-0a854aab45fb>\u001b[0m in \u001b[0;36mopen_contacts\u001b[1;34m(contacts)\u001b[0m\n\u001b[0;32m      4\u001b[0m     \u001b[1;32mif\u001b[0m \u001b[0mkyakaru\u001b[0m\u001b[1;33m==\u001b[0m\u001b[1;34m\"u\"\u001b[0m\u001b[1;33m:\u001b[0m\u001b[1;33m\u001b[0m\u001b[1;33m\u001b[0m\u001b[0m\n\u001b[0;32m      5\u001b[0m         \u001b[0mname\u001b[0m \u001b[1;33m=\u001b[0m\u001b[0minput\u001b[0m\u001b[1;33m(\u001b[0m\u001b[1;34m'bata be kya update karna hai naam bhi bata.'\u001b[0m\u001b[1;33m)\u001b[0m\u001b[1;33m\u001b[0m\u001b[1;33m\u001b[0m\u001b[0m\n\u001b[1;32m----> 6\u001b[1;33m         \u001b[0mupdate_contact\u001b[0m\u001b[1;33m(\u001b[0m\u001b[0mcontacts\u001b[0m\u001b[1;33m,\u001b[0m\u001b[0mname\u001b[0m\u001b[1;33m)\u001b[0m\u001b[1;33m\u001b[0m\u001b[1;33m\u001b[0m\u001b[0m\n\u001b[0m\u001b[0;32m      7\u001b[0m     \u001b[1;32melif\u001b[0m \u001b[0mkyakaru\u001b[0m\u001b[1;33m==\u001b[0m\u001b[1;34m\"d\"\u001b[0m\u001b[1;33m:\u001b[0m\u001b[1;33m\u001b[0m\u001b[1;33m\u001b[0m\u001b[0m\n\u001b[0;32m      8\u001b[0m         \u001b[0mname\u001b[0m\u001b[1;33m=\u001b[0m\u001b[0minput\u001b[0m\u001b[1;33m(\u001b[0m\u001b[1;34m'contact that u want to delete'\u001b[0m\u001b[1;33m)\u001b[0m\u001b[1;33m\u001b[0m\u001b[1;33m\u001b[0m\u001b[0m\n",
      "\u001b[1;31mNameError\u001b[0m: name 'update_contact' is not defined"
     ]
    }
   ],
   "source": [
    "open_contacts(contacts)"
   ]
  },
  {
   "cell_type": "markdown",
   "metadata": {},
   "source": [
    "### Complete application (using all the above functions in use)\n",
    "\n",
    "We will use an infinite loop to encapsulate our application logic and break only when `q` is pressed. We will use `clear_output()` function from `IPython.display` to clear the output before printing anything new.\n",
    "\n",
    "Below is the pseudo-code to help you build the application logic."
   ]
  },
  {
   "cell_type": "code",
   "execution_count": null,
   "metadata": {},
   "outputs": [],
   "source": [
    "from IPython.display import clear_output\n",
    "\n",
    "while True:\n",
    "    \n",
    "    ## show all contacts\n",
    "    \n",
    "    action = input(\"Press 'a' - add contact, 'u' - update & delete (u/d), 's' - search contact, 'q' - quit\")\n",
    "    if action == 'a':\n",
    "        add_contact(contacts)\n",
    "\n",
    "    elif action == 'u':\n",
    "        name = input(\"Enter name of the contact you want to open. \")        \n",
    "        open_contact(contacts, name)\n",
    "\n",
    "    elif action == 'q':\n",
    "        break\n",
    "    \n",
    "    else:\n",
    "        print('incorrect choice')"
   ]
  },
  {
   "cell_type": "code",
   "execution_count": null,
   "metadata": {},
   "outputs": [],
   "source": []
  },
  {
   "cell_type": "markdown",
   "metadata": {},
   "source": [
    "## Using files\n",
    "\n",
    "One major problem with the above approach is \"persistent storage\". Every time you close this notebook, all the new contacts are lost. This happens because `contacts` is a python variable. Its lives inside python session. As soon as the session is killed/terminated, all the varibles are also deleted.\n",
    "\n",
    "To address this problem, we will have to use save the contacts in a disk. What better reason to use files? Instead of using *list of dictionary*, use file to save the contacts. \n",
    "\n",
    "Save every new contact in a new-line and use \" , \" to separate the contact fields. This is how the above contacts should look, when saved in a file.\n",
    "\n",
    "```text\n",
    "vivek, vivek@gmail.com, 9921668254\n",
    "ankur, ankur@gmail.com, 8806807004\n",
    "pranav, pranav@gmail.com, 987654321\n",
    "```\n",
    "\n",
    "You task is to make appropriate changes to the above code to use `contacts.txt` instead of using `contacts` list."
   ]
  },
  {
   "cell_type": "code",
   "execution_count": 8,
   "metadata": {},
   "outputs": [],
   "source": [
    "with open(\"contacts.txt\", \"w\") as file:\n",
    "    for i in contacts:\n",
    "        a = ''    \n",
    "        for k in i.keys():\n",
    "            a = a + i[k] + ','\n",
    "        a = a + '\\n'\n",
    "        file.write(a)\n",
    "    file.close() # add "
   ]
  },
  {
   "cell_type": "code",
   "execution_count": 9,
   "metadata": {},
   "outputs": [
    {
     "data": {
      "text/plain": [
       "['Gaav Jain,7720002120,gaurav@gmail.com,\\n',\n",
       " 'saurabh Jain,8720002120,saurav@gmail.com,\\n',\n",
       " 'aditya Jain,9720002120,aditya@gmail.com,\\n']"
      ]
     },
     "execution_count": 9,
     "metadata": {},
     "output_type": "execute_result"
    }
   ],
   "source": [
    "file=open(\"contacts.txt\")\n",
    "file.readlines()"
   ]
  },
  {
   "cell_type": "code",
   "execution_count": null,
   "metadata": {},
   "outputs": [],
   "source": [
    "while True:\n",
    "    choice=input(\"Press 'a' - add contact, 'UD' - update & delete (u/d), 's' - search contact, 'q' - quit\")\n",
    "    if choice == 'a':\n",
    "        add_contact(contacts)\n",
    "        print(contacts)\n",
    "        file = open(\"contacts.txt\", 'w')\n",
    "        for i in contacts:\n",
    "            a = ''    \n",
    "            for k in i.keys():\n",
    "                a = a + str(i[k]) + ','\n",
    "            a = a + '\\n'\n",
    "            file.write(a)\n",
    "#         file.write(contacts)\n",
    "        file.close()\n",
    "        break\n",
    "    elif choice == 'UD':\n",
    "            open_contacts(contacts)\n",
    "            \n",
    "            print(contacts)\n",
    "            file = open(\"contacts.txt\", 'w')\n",
    "            for i in contacts:\n",
    "                a = ''    \n",
    "                for k in i.keys():\n",
    "                    a = a + str(i[k]) + ','\n",
    "                a = a + '\\n'\n",
    "                file.write(a)\n",
    "    #         file.write(contacts)\n",
    "            file.close()\n",
    "        #search\n",
    "    elif choice == 's':\n",
    "        name=input(\"kiaka conatct chaiye bata:\") # input naame liya\n",
    "        \n",
    "        file = open(\"contacts.txt\", 'r') # filel open ki then\n",
    "        var = file.readlines()     #  3 lines likhe \n",
    "        for _ in var:                        # ek loop liya jis mai var ko dekha var means file = fiole.readlines\n",
    "            nameInTxt = _.strip(',\\n').split(',')[0] #ek varibale liya nameInTxt then usko  _.strip(',\\n').split(',')[0]kiya\n",
    "            if name == nameInTxt: # check in condition\n",
    "                print(_.strip(',\\n').split(','))\n",
    "                break\n",
    "            else:\n",
    "                print('aisa koi nhi contact mai')\n",
    "                break\n",
    "        file.close()\n",
    "    elif choice == 'q':\n",
    "        break\n",
    "    \n",
    "    else:\n",
    "        print('incorrect choice')"
   ]
  },
  {
   "cell_type": "code",
   "execution_count": null,
   "metadata": {},
   "outputs": [],
   "source": []
  },
  {
   "cell_type": "code",
   "execution_count": null,
   "metadata": {},
   "outputs": [],
   "source": []
  },
  {
   "cell_type": "code",
   "execution_count": null,
   "metadata": {},
   "outputs": [],
   "source": []
  },
  {
   "cell_type": "markdown",
   "metadata": {},
   "source": [
    "## Using Regex\n",
    "\n",
    "Yet another problem with our app is \"lack of validation\". While creating a new contact, user is free to enter anything. But why is that a problem? \n",
    "\n",
    "**Input validation** is important to ensure only properly formed data is entering the workflow in an information system, preventing malformed data from persisting in the database and triggering malfunction of various downstream components. Input validation should happen as early as possible in the data flow, preferably as soon as the data is received. [source](https://cheatsheetseries.owasp.org/cheatsheets/Input_Validation_Cheat_Sheet.html)\n",
    "\n",
    "The above paragraph is the complete gist of Input validation. Read it again & ponder for a minute. Its an important concept when building customer facing applications. We would highly recommend you to Google and read more about it.  \n",
    "\n",
    "Use regular expression to validate user input (before you save it to the file). Implement the following:\n",
    "- `Name` should be all alphabets. \" \" should also be allowed.\n",
    "- For `email` refer regex chapter from course material.\n",
    "- `Number` should have 10 digits. Not less, not more. Also, not alphabets should be allowed.\n",
    "- Add a new field `DOB` to each contact. It should follow YYYY-MM-DD format. Then write a regular expression to validate it. Remember, date & month cannot be greater that 31 & 12, respectively. \n",
    "\n",
    "Can you think of any more validations?"
   ]
  },
  {
   "cell_type": "markdown",
   "metadata": {},
   "source": [
    "We really hope you had a wonderful time building this applications. This is how applications are developed in really life. You start with a set of basic functionalities and then you keep adding new features (like persistent storage & validation). As the application grows in size, you might encounter new problems to solve."
   ]
  },
  {
   "cell_type": "code",
   "execution_count": 24,
   "metadata": {},
   "outputs": [
    {
     "ename": "TypeError",
     "evalue": "compile() missing 1 required positional argument: 'pattern'",
     "output_type": "error",
     "traceback": [
      "\u001b[1;31m---------------------------------------------------------------------------\u001b[0m",
      "\u001b[1;31mTypeError\u001b[0m                                 Traceback (most recent call last)",
      "\u001b[1;32m<ipython-input-24-23d79fd7c36b>\u001b[0m in \u001b[0;36m<module>\u001b[1;34m\u001b[0m\n\u001b[0;32m      1\u001b[0m \u001b[1;32mimport\u001b[0m \u001b[0mre\u001b[0m\u001b[1;33m\u001b[0m\u001b[1;33m\u001b[0m\u001b[0m\n\u001b[1;32m----> 2\u001b[1;33m \u001b[0mname\u001b[0m \u001b[1;33m=\u001b[0m \u001b[0mre\u001b[0m\u001b[1;33m.\u001b[0m\u001b[0mcompile\u001b[0m\u001b[1;33m(\u001b[0m\u001b[1;33m)\u001b[0m\u001b[1;33m\u001b[0m\u001b[1;33m\u001b[0m\u001b[0m\n\u001b[0m\u001b[0;32m      3\u001b[0m \u001b[0memail\u001b[0m \u001b[1;33m=\u001b[0m \u001b[0mre\u001b[0m\u001b[1;33m.\u001b[0m\u001b[0mcompile\u001b[0m\u001b[1;33m(\u001b[0m\u001b[1;34m'\\w+\\.\\w+@\\w+\\.[a-z]{3}'\u001b[0m\u001b[1;33m)\u001b[0m\u001b[1;33m\u001b[0m\u001b[1;33m\u001b[0m\u001b[0m\n\u001b[0;32m      4\u001b[0m \u001b[0mnumber\u001b[0m \u001b[1;33m=\u001b[0m \u001b[0mre\u001b[0m\u001b[1;33m.\u001b[0m\u001b[0mcompile\u001b[0m\u001b[1;33m(\u001b[0m\u001b[1;33m)\u001b[0m\u001b[1;33m\u001b[0m\u001b[1;33m\u001b[0m\u001b[0m\n\u001b[0;32m      5\u001b[0m \u001b[0mdob\u001b[0m \u001b[1;33m=\u001b[0m \u001b[0mre\u001b[0m\u001b[1;33m.\u001b[0m\u001b[0mcompile\u001b[0m\u001b[1;33m(\u001b[0m\u001b[1;33m)\u001b[0m\u001b[1;33m\u001b[0m\u001b[1;33m\u001b[0m\u001b[0m\n",
      "\u001b[1;31mTypeError\u001b[0m: compile() missing 1 required positional argument: 'pattern'"
     ]
    }
   ],
   "source": [
    "import re\n",
    "name = re.compile()\n",
    "email = re.compile('\\w+\\.\\w+@\\w+\\.[a-z]{3}')\n",
    "number = re.compile()\n",
    "dob = re.compile()"
   ]
  },
  {
   "cell_type": "code",
   "execution_count": 3,
   "metadata": {},
   "outputs": [
    {
     "name": "stdout",
     "output_type": "stream",
     "text": [
      "email:GAURAV@AKL.LLL\n"
     ]
    }
   ],
   "source": [
    "def add_contact(contacts):\n",
    "    ## your code here\n",
    "    name=input('Contact name:') #takes input from user for name\n",
    "    number=int(input('Contact Number:')) #takes input from user for number\n",
    "    email=input('email:')               #takes input from user for email\n",
    "    new_dict={'name':name,'number':number,'email':email} #newdictornary name = {k:v}\n",
    "    contacts.append(new_dict) # appending newdictornary to dictonary in  list\n",
    "import re\n",
    "email=input('email:')\n",
    "email = re.compile('\\w+\\.\\w+@\\w+\\.[a-z]{3}')\n"
   ]
  },
  {
   "cell_type": "code",
   "execution_count": null,
   "metadata": {},
   "outputs": [],
   "source": []
  }
 ],
 "metadata": {
  "kernelspec": {
   "display_name": "Python 3",
   "language": "python",
   "name": "python3"
  },
  "language_info": {
   "codemirror_mode": {
    "name": "ipython",
    "version": 3
   },
   "file_extension": ".py",
   "mimetype": "text/x-python",
   "name": "python",
   "nbconvert_exporter": "python",
   "pygments_lexer": "ipython3",
   "version": "3.7.4"
  },
  "toc": {
   "base_numbering": 1,
   "nav_menu": {},
   "number_sections": true,
   "sideBar": true,
   "skip_h1_title": false,
   "title_cell": "Table of Contents",
   "title_sidebar": "Contents",
   "toc_cell": false,
   "toc_position": {},
   "toc_section_display": true,
   "toc_window_display": false
  }
 },
 "nbformat": 4,
 "nbformat_minor": 4
}
